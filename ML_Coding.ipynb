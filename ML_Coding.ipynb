{
  "nbformat": 4,
  "nbformat_minor": 0,
  "metadata": {
    "colab": {
      "provenance": [],
      "toc_visible": true,
      "authorship_tag": "ABX9TyM9AUszRBroAmNKHw1wCSwO",
      "include_colab_link": true
    },
    "kernelspec": {
      "name": "python3",
      "display_name": "Python 3"
    },
    "language_info": {
      "name": "python"
    }
  },
  "cells": [
    {
      "cell_type": "markdown",
      "metadata": {
        "id": "view-in-github",
        "colab_type": "text"
      },
      "source": [
        "<a href=\"https://colab.research.google.com/github/HiranmaiKaredla/ML-Coding/blob/main/ML_Coding.ipynb\" target=\"_parent\"><img src=\"https://colab.research.google.com/assets/colab-badge.svg\" alt=\"Open In Colab\"/></a>"
      ]
    },
    {
      "cell_type": "code",
      "execution_count": null,
      "metadata": {
        "id": "5Zuj8A8UthO7"
      },
      "outputs": [],
      "source": []
    },
    {
      "cell_type": "markdown",
      "source": [
        "## Covariance Matrix\n",
        "\n",
        "A covariance matrix is a key concept in statistics and data analysis, used to describe the covariance (the measure of how much two random variables vary together) between pairs of variables in a dataset. It is a square matrix where each element represents the covariance between two different variables.\n",
        "\n",
        "$$\n",
        "\\text{Cov}(X, Y) = \\frac{1}{n-1} \\sum_{i=1}^{n} (X_i - \\bar{X})(Y_i - \\bar{Y})\n",
        "$$\n",
        "\n",
        "$$\n",
        "\\Sigma =\n",
        "\\begin{bmatrix}\n",
        "\\text{Cov}(X_1, X_1) & \\text{Cov}(X_1, X_2) & \\dots & \\text{Cov}(X_1, X_p) \\\\\n",
        "\\text{Cov}(X_2, X_1) & \\text{Cov}(X_2, X_2) & \\dots & \\text{Cov}(X_2, X_p) \\\\\n",
        "\\vdots & \\vdots & \\ddots & \\vdots \\\\\n",
        "\\text{Cov}(X_p, X_1) & \\text{Cov}(X_p, X_2) & \\dots & \\text{Cov}(X_p, X_p)\n",
        "\\end{bmatrix}\n",
        "$$\n",
        "\\\n",
        "$$\n",
        "\\Sigma =\n",
        "\\begin{bmatrix}\n",
        "\\text{Var}(X) & \\text{Cov}(X, Y) \\\\\n",
        "\\text{Cov}(X, Y) & \\text{Var}(Y)\n",
        "\\end{bmatrix}\n",
        "$$\n",
        "\n",
        "\n"
      ],
      "metadata": {
        "id": "Mf7HCvNkuAt8"
      }
    },
    {
      "cell_type": "code",
      "source": [
        "def calculate_covariance_matrix(vectors: list[list[float]]) -> list[list[float]]:\n",
        "\tn_features = len(vectors)\n",
        "\tn_observations = len(vectors[0])\n",
        "\tcovariance_matrix = [[0]*n_features for _ in range(n_features)]\n",
        "\n",
        "\tmeans = [sum(feature)/n_observations for feature in vectors]\n",
        "\tfor i in range(n_features):\n",
        "\t\tfor j in range(i, n_features):\n",
        "\t\t\tcovariance = sum((vectors[i][k]-means[i]) * (vectors[j][k]- means[j])\n",
        "\t\t\tfor k in range(n_observations)) / (n_observations -1)\n",
        "\t\t\tcovariance_matrix[i][j] = covariance_matrix[j][i] = covariance\n",
        "\n",
        "\treturn covariance_matrix"
      ],
      "metadata": {
        "id": "WXSyy4e9uIjG"
      },
      "execution_count": 1,
      "outputs": []
    },
    {
      "cell_type": "markdown",
      "source": [
        "## K Means Clustering\n",
        "1. **Initialization**\n",
        "Use the provided initial_centroids as your starting point. This step is already done for you in the input.\n",
        "\n",
        "2. **Assignment Step**\n",
        "For each point in your dataset:\n",
        "\n",
        "Calculate its distance to each centroid (Hint: use Euclidean distance.)\n",
        "Assign the point to the cluster of the nearest centroid\n",
        "Hint: Consider creating a helper function to calculate Euclidean distance between two points.\n",
        "\n",
        "3. **Update Step**\n",
        "For each cluster:\n",
        "\n",
        "Calculate the mean of all points assigned to the cluster\n",
        "Update the centroid to this new mean position\n",
        "Hint: Be careful with potential empty clusters. Decide how you'll handle them (e.g., keep the previous centroid).\n",
        "\n",
        "4. **Iteration**\n",
        "Repeat steps 2 and 3 until either:\n",
        "\n",
        "The centroids no longer change significantly (this case does not need to be included in your solution), or\n",
        "You reach the max_iterations limit\n",
        "Hint: You might want to keep track of the previous centroids to check for significant changes.\n",
        "\n",
        "5. **Result**\n",
        "Return the list of final centroids, ensuring each coordinate is rounded to the nearest fourth decimal.\n",
        "\n"
      ],
      "metadata": {
        "id": "LYoGwJTy6L3H"
      }
    },
    {
      "cell_type": "code",
      "source": [],
      "metadata": {
        "id": "qbjY8KsR5wqn"
      },
      "execution_count": null,
      "outputs": []
    }
  ]
}